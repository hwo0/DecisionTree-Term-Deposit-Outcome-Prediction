{
 "cells": [
  {
   "cell_type": "markdown",
   "source": [
    "CODE APPENDIX"
   ],
   "metadata": {
    "collapsed": false
   }
  },
  {
   "cell_type": "markdown",
   "source": [
    "#### Dataset I - Bank.csv"
   ],
   "metadata": {
    "collapsed": false
   }
  },
  {
   "cell_type": "code",
   "execution_count": null,
   "outputs": [],
   "source": [
    "#Load Packages\n",
    "import pandas as pd\n",
    "import numpy as np\n",
    "import seaborn as sns\n",
    "from sklearn import metrics\n",
    "import matplotlib.pyplot as plt\n",
    "from scipy import stats\n",
    "from sklearn import tree\n",
    "from sklearn.tree import DecisionTreeClassifier\n",
    "from sklearn.model_selection import train_test_split, cross_val_score\n",
    "from sklearn.metrics import roc_curve, auc, plot_confusion_matrix\n",
    "from sklearn import preprocessing\n",
    "from sklearn.metrics import confusion_matrix\n",
    "from sklearn.metrics import plot_confusion_matrix"
   ],
   "metadata": {
    "collapsed": false,
    "pycharm": {
     "name": "#%%\n"
    }
   }
  },
  {
   "cell_type": "code",
   "execution_count": null,
   "outputs": [],
   "source": [
    "#Load Dataset and set delimiter\n",
    "bank = pd.read_csv(r'C:\\Users\\Helen\\Desktop\\MoA\\COMP809\\bank.csv', delimiter=';')"
   ],
   "metadata": {
    "collapsed": false,
    "pycharm": {
     "name": "#%%\n"
    }
   }
  },
  {
   "cell_type": "code",
   "execution_count": null,
   "outputs": [],
   "source": [
    "bank.head()"
   ],
   "metadata": {
    "collapsed": false,
    "pycharm": {
     "name": "#%%\n"
    }
   }
  },
  {
   "cell_type": "code",
   "execution_count": null,
   "outputs": [],
   "source": [
    "bank.info()"
   ],
   "metadata": {
    "collapsed": false,
    "pycharm": {
     "name": "#%%\n"
    }
   }
  },
  {
   "cell_type": "code",
   "execution_count": null,
   "outputs": [],
   "source": [
    "#Create Scatter matrix plots\n",
    "scatter = pd.plotting.scatter_matrix(bank,figsize= (20,20))\n",
    "plt.show()"
   ],
   "metadata": {
    "collapsed": false,
    "pycharm": {
     "name": "#%%\n"
    }
   }
  },
  {
   "cell_type": "code",
   "execution_count": null,
   "outputs": [],
   "source": [
    "#Values examination\n",
    "bank.describe()"
   ],
   "metadata": {
    "collapsed": false,
    "pycharm": {
     "name": "#%%\n"
    }
   }
  },
  {
   "cell_type": "markdown",
   "source": [
    "#### a) Data Pre-processing"
   ],
   "metadata": {
    "collapsed": false
   }
  },
  {
   "cell_type": "code",
   "execution_count": null,
   "outputs": [],
   "source": [
    "#Make a copy to use for safety before commencing Pre-processing\n",
    "bank1= bank.copy()"
   ],
   "metadata": {
    "collapsed": false,
    "pycharm": {
     "name": "#%%\n"
    }
   }
  },
  {
   "cell_type": "code",
   "execution_count": null,
   "outputs": [],
   "source": [
    "#Check for null values in dataset\n",
    "bank1[bank.isnull().any(axis=1)].count()"
   ],
   "metadata": {
    "collapsed": false,
    "pycharm": {
     "name": "#%%\n"
    }
   }
  },
  {
   "cell_type": "code",
   "execution_count": null,
   "outputs": [],
   "source": [
    "#Drop 'duration' column\n",
    "bank1.drop('duration',axis=1, inplace=True)\n",
    "\n",
    "#Drop 'contact' column\n",
    "bank1.drop('contact',axis=1, inplace=True)\n",
    "\n",
    "#Drop 'day' & 'month' columns\n",
    "bank1.drop('day',axis=1,inplace=True)\n",
    "bank1.drop('month',axis=1,inplace=True)"
   ],
   "metadata": {
    "collapsed": false,
    "pycharm": {
     "name": "#%%\n"
    }
   }
  },
  {
   "cell_type": "code",
   "execution_count": null,
   "outputs": [],
   "source": [
    "#For 'poutcome'- combine 'other' and 'unknown'\n",
    "bank1.poutcome.value_counts() #Check initial 'poutcome' entries\n",
    "bank1['poutcome'] = bank1['poutcome'].replace(['other'],'unknown')\n",
    "bank1.poutcome.value_counts() #Check 'poutcome' entries after combining."
   ],
   "metadata": {
    "collapsed": false,
    "pycharm": {
     "name": "#%%\n"
    }
   }
  },
  {
   "cell_type": "code",
   "execution_count": null,
   "outputs": [],
   "source": [
    "print(\"Customers not previously contacted:\", len(bank1[bank1.pdays==-1]))\n",
    "print(\"Maximum values on padys:\", bank1['pdays'].max())\n",
    "bank1.loc[bank1['pdays'] == -1, 'pdays'] = 100000"
   ],
   "metadata": {
    "collapsed": false,
    "pycharm": {
     "name": "#%%\n"
    }
   }
  },
  {
   "cell_type": "code",
   "execution_count": null,
   "outputs": [],
   "source": [
    "bank1.head()"
   ],
   "metadata": {
    "collapsed": false,
    "pycharm": {
     "name": "#%%\n"
    }
   }
  },
  {
   "cell_type": "code",
   "execution_count": null,
   "outputs": [],
   "source": [
    "#Check Outlier presence with Box Plots\n",
    "#Box plot visualization of feature variables' relationship with target variable\n",
    "fig,axarr = plt.subplots(2,3, figsize=(17,10), dpi=300, facecolor='w', edgecolor='k')\n",
    "sns.set(style=\"white\")\n",
    "sns.boxplot(x='age', hue = 'y',data = bank1, ax=axarr[0][0], palette=\"viridis\")\n",
    "axarr[0][0].set_title('Distribution of Age')\n",
    "sns.boxplot(x='balance', hue = 'y',data = bank1, ax=axarr[0][1], palette=\"viridis\")\n",
    "axarr[0][1].set_title('Distribution of balance')\n",
    "sns.boxplot(x='campaign', hue = 'y',data = bank1,ax=axarr[0][2], palette=\"viridis\")\n",
    "axarr[0][2].set_title('Distribution of campaign')\n",
    "sns.boxplot(x='pdays', hue = 'y',data = bank1, ax=axarr[1][0], palette=\"viridis\")\n",
    "axarr[1][0].set_title('Distribution of pdays')\n",
    "sns.boxplot(x='previous', hue = 'y',data = bank1, ax=axarr[1][1], palette=\"viridis\")\n",
    "axarr[1][1].set_title('Distribution of previous')\n",
    "\n",
    "fig.suptitle('Box plot of Numeric Feature Variables vs Target Variable', fontsize=16);\n",
    "plt.show()"
   ],
   "metadata": {
    "collapsed": false,
    "pycharm": {
     "name": "#%%\n"
    }
   }
  },
  {
   "cell_type": "code",
   "execution_count": null,
   "outputs": [],
   "source": [
    "bank1.hist(column=['age', 'balance','campaign', 'pdays', 'previous'],figsize= (15,15))"
   ],
   "metadata": {
    "collapsed": false,
    "pycharm": {
     "name": "#%%\n"
    }
   }
  },
  {
   "cell_type": "code",
   "execution_count": null,
   "outputs": [],
   "source": [
    "#Implement RobustScaler\n",
    "Rscaler = RobustScaler()\n",
    "num_cols = ['age', 'balance', 'campaign', 'pdays', 'previous']\n",
    "bank1[num_cols] = Rscaler.fit_transform(bank1[num_cols])\n",
    "bank1.head()"
   ],
   "metadata": {
    "collapsed": false,
    "pycharm": {
     "name": "#%%\n"
    }
   }
  },
  {
   "cell_type": "code",
   "execution_count": null,
   "outputs": [],
   "source": [
    "#Use StandardScaler for Normalization of data\n",
    "Sscaler = StandardScaler()\n",
    "num_cols = ['age', 'balance', 'campaign', 'pdays', 'previous']\n",
    "bank1[num_cols] = Sscaler.fit_transform(bank1[num_cols])\n",
    "bank1.head()"
   ],
   "metadata": {
    "collapsed": false,
    "pycharm": {
     "name": "#%%\n"
    }
   }
  },
  {
   "cell_type": "code",
   "execution_count": null,
   "outputs": [],
   "source": [
    "# Import LabelEncoder\n",
    "from sklearn.preprocessing import LabelEncoder"
   ],
   "metadata": {
    "collapsed": false,
    "pycharm": {
     "name": "#%%\n"
    }
   }
  },
  {
   "cell_type": "code",
   "execution_count": null,
   "outputs": [],
   "source": [
    "# Encoding catergorical data to numeric with LabelEncoder\n",
    "le = preprocessing.LabelEncoder()\n",
    "CatCols = ['job', 'marital', 'education', 'default', 'housing', 'loan', 'poutcome','y']\n",
    "for i in CatCols:\n",
    "    bank1[i] = le.fit_transform(bank[i].values)\n",
    "\n",
    "bank1.head()"
   ],
   "metadata": {
    "collapsed": false,
    "pycharm": {
     "name": "#%%\n"
    }
   }
  },
  {
   "cell_type": "code",
   "execution_count": null,
   "outputs": [],
   "source": [
    "print('Shape of dataframe:', bank1.shape)"
   ],
   "metadata": {
    "collapsed": false,
    "pycharm": {
     "name": "#%%\n"
    }
   }
  },
  {
   "cell_type": "markdown",
   "source": [
    "**End of Pre-processing**"
   ],
   "metadata": {
    "collapsed": false
   }
  },
  {
   "cell_type": "markdown",
   "source": [
    "**b) Top 5 Classification Feature Selection**"
   ],
   "metadata": {
    "collapsed": false
   }
  },
  {
   "cell_type": "code",
   "execution_count": null,
   "outputs": [],
   "source": [
    "#Develop Correlation Matrix & Plot Heatmap\n",
    "corr= bank1.corr()\n",
    "plt.figure(figsize = (11,11))\n",
    "cmap = sns.diverging_palette(240, 10, n=9,as_cmap=True)\n",
    "sns.heatmap(corr, xticklabels=corr.columns.values,\n",
    "            yticklabels=corr.columns.values, cmap=cmap,center=0,\n",
    "            vmax=.3, linewidths=.5, square=True,\n",
    "            cbar_kws={\"shrink\": .82},annot=True)\n",
    "plt.title('Correlation Matrix Heatmap')\n",
    "plt.show()\n"
   ],
   "metadata": {
    "collapsed": false,
    "pycharm": {
     "name": "#%%\n"
    }
   }
  },
  {
   "cell_type": "code",
   "execution_count": null,
   "outputs": [],
   "source": [
    "corr.head()"
   ],
   "metadata": {
    "collapsed": false,
    "pycharm": {
     "name": "#%%\n"
    }
   }
  },
  {
   "cell_type": "code",
   "execution_count": null,
   "outputs": [],
   "source": [
    "#Extract the y_cat colum (Target Variable) \n",
    "#- to see each predictor (feature) variable's correlation with 'y' in descending order\n",
    "corr_y =pd.DataFrame(corr['y'].drop('y'))\n",
    "corr_final=abs(corr_y.sort_values(by='y', ascending = False))\n",
    "print(corr_final.nlargest(5,'y').head(5))"
   ],
   "metadata": {
    "collapsed": false,
    "pycharm": {
     "name": "#%%\n"
    }
   }
  },
  {
   "cell_type": "markdown",
   "source": [
    "**c) Build Decision Tree Model and adjust two parameters**"
   ],
   "metadata": {
    "collapsed": false
   }
  },
  {
   "cell_type": "code",
   "execution_count": null,
   "outputs": [],
   "source": [
    "#Set Features (based on top 5 most inflential feature from previous step)\n",
    "X = bank1[['pdays','previous','housing','poutcome','loan']]\n",
    "\n",
    "#Set Target\n",
    "y = bank1['y']\n",
    "\n",
    "#Prepare Training and Testing Data (20% test data)\n",
    "X_train,X_test,y_train,y_test= train_test_split(X,y, shuffle=True, test_size=0.2, random_state=42)\n",
    "\n",
    "#Display Training and Testing Data\n",
    "print('Shape of training feature:', X_train.shape)\n",
    "print('Shape of testing feature:', X_test.shape)\n",
    "print('Shape of training label:', y_train.shape)\n",
    "print('Shape of training label:', y_test.shape)"
   ],
   "metadata": {
    "collapsed": false,
    "pycharm": {
     "name": "#%%\n"
    }
   }
  },
  {
   "cell_type": "code",
   "execution_count": null,
   "outputs": [],
   "source": [
    "#Construct Decision Tree Model\n",
    "dt = tree.DecisionTreeClassifier(random_state=42)\n",
    "\n",
    "#Train Decision Tree Classifier\n",
    "tdt=dt.fit(X_train,y_train)\n",
    "\n",
    "#Plot Initial Decision Tree\n",
    "plt.figure(dpi=300)\n",
    "tree.plot_tree(tdt)\n",
    "plt.show()\n"
   ],
   "metadata": {
    "collapsed": false,
    "pycharm": {
     "name": "#%%\n"
    }
   }
  },
  {
   "cell_type": "code",
   "execution_count": null,
   "outputs": [],
   "source": [
    "#10 fold cross-validation score:\n",
    "cv= cross_val_score(dt,X,y,cv=10)\n",
    "print(cv)\n",
    "print(\"Averaged 10-Fold CV Score:{}\".format(np.mean(cv)))"
   ],
   "metadata": {
    "collapsed": false,
    "pycharm": {
     "name": "#%%\n"
    }
   }
  },
  {
   "cell_type": "code",
   "execution_count": null,
   "outputs": [],
   "source": [
    "#Tune 'max_depth' parameter.\n",
    "maxdepth_cv=[]\n",
    "node_counts=[]\n",
    "\n",
    "for k in range(1,6,1):\n",
    "     dt=DecisionTreeClassifier(max_depth=k,random_state=42)\n",
    "     dt.fit(X_train,y_train)\n",
    "     predict=dt.predict(X_test)\n",
    "     cv= cross_val_score(dt,X,y,cv=10)\n",
    "     nodecount = dt.tree_.node_count\n",
    "     print(\"max_depth={}\".format(k),\n",
    "           \"Average 10-Fold CV Score:{}\".format(np.mean(cv)),\n",
    "           \"Node count:{}\".format(nodecount))\n",
    "     maxdepth_cv.append(np.mean(cv))\n",
    "     node_counts.append(nodecount)"
   ],
   "metadata": {
    "collapsed": false,
    "pycharm": {
     "name": "#%%\n"
    }
   }
  },
  {
   "cell_type": "code",
   "execution_count": null,
   "outputs": [],
   "source": [
    "#Plot averaged CV scores for all max_depth tunings\n",
    "fig,axes=plt.subplots(1,1,figsize=(8,5))\n",
    "axes.set_xticks(range(1,6,1))\n",
    "k=range(1,6,1)\n",
    "plt.plot(k,maxdepth_cv)\n",
    "plt.xlabel(\"max_depth\")\n",
    "plt.ylabel(\"Averaged 10-fold CV score\")\n",
    "plt.show()"
   ],
   "metadata": {
    "collapsed": false,
    "pycharm": {
     "name": "#%%\n"
    }
   }
  },
  {
   "cell_type": "code",
   "execution_count": null,
   "outputs": [],
   "source": [
    "#Plot Decision Tree with (max_depth=2)\n",
    "dt_depth2 = tree.DecisionTreeClassifier(max_depth=2,random_state=42)\n",
    "tdt_depth2=dt_depth2.fit(X_train,y_train)\n",
    "\n",
    "plt.figure(dpi=300)\n",
    "tree.plot_tree(tdt_depth2)\n",
    "plt.title(\"Decision Tree Diagram (max_depth = 2)\")\n",
    "plt.show()"
   ],
   "metadata": {
    "collapsed": false,
    "pycharm": {
     "name": "#%%\n"
    }
   }
  },
  {
   "cell_type": "code",
   "execution_count": null,
   "outputs": [],
   "source": [
    "#Tune 'max_leaf_nodes' parameter.\n",
    "maxleaf_cv=[]\n",
    "node_counts=[]\n",
    "\n",
    "\n",
    "for k in range(2,11,1):\n",
    "     dt=DecisionTreeClassifier(max_leaf_nodes=k,random_state=42)\n",
    "     dt.fit(X_train,y_train)\n",
    "     predict=dt.predict(X_test)\n",
    "     cv= cross_val_score(dt,X,y,cv=10)\n",
    "     nodecount = dt.tree_.node_count\n",
    "     print(\"max_leaf_nodes={}\".format(k),\n",
    "           \"Average 10-Fold CV Score:{}\".format(np.mean(cv)),\n",
    "           \"Node count:{}\".format(nodecount))\n",
    "     maxleaf_cv.append(np.mean(cv))\n",
    "     node_counts.append(nodecount)"
   ],
   "metadata": {
    "collapsed": false,
    "pycharm": {
     "name": "#%%\n"
    }
   }
  },
  {
   "cell_type": "code",
   "execution_count": null,
   "outputs": [],
   "source": [
    "#Plot averaged CV scores for all tuned max_leaf_nodes tunings\n",
    "fig,axes=plt.subplots(1,1,figsize=(8,5))\n",
    "axes.set_xticks(range(2,11,1))\n",
    "k=range(2,11,1)\n",
    "plt.plot(k,maxleaf_cv)\n",
    "plt.xlabel(\"max_leaf_nodes\")\n",
    "plt.ylabel(\"Averaged 10-fold CV score\")\n",
    "plt.show()"
   ],
   "metadata": {
    "collapsed": false,
    "pycharm": {
     "name": "#%%\n"
    }
   }
  },
  {
   "cell_type": "code",
   "execution_count": null,
   "outputs": [],
   "source": [
    "#Plot Decision Tree with (max_leaf_nodes=10)\n",
    "dt_leaf5 = tree.DecisionTreeClassifier(max_leaf_nodes=5,random_state=42)\n",
    "tdt_leaf5=dt_leaf5.fit(X_train,y_train)\n",
    "\n",
    "plt.figure(dpi=300)\n",
    "tree.plot_tree(tdt_leaf5)\n",
    "plt.title(\"Decision Tree Diagram (max_leaf_nodes = 5)\")\n",
    "plt.show()"
   ],
   "metadata": {
    "collapsed": false,
    "pycharm": {
     "name": "#%%\n"
    }
   }
  },
  {
   "cell_type": "code",
   "execution_count": null,
   "outputs": [],
   "source": [
    "#Decision Tree with (max_leaf_nodes=5)\n",
    "dt_leaf5 = tree.DecisionTreeClassifier(max_leaf_nodes=5,random_state=42)\n",
    "tdt_leaf5=dt_leaf5.fit(X_train,y_train)\n",
    "\n",
    "#Plot Confusion Matrix\n",
    "plot_confusion_matrix(dt_leaf5, X_test, y_test, normalize= 'all')\n",
    "plt.show()\n",
    "\n"
   ],
   "metadata": {
    "collapsed": false,
    "pycharm": {
     "name": "#%%\n"
    }
   }
  },
  {
   "cell_type": "code",
   "execution_count": null,
   "outputs": [],
   "source": [
    "#Class Imbalance Issue Visualized \n",
    "#Histogram of '1' and '0' in 'y'\n",
    "bank1.hist(column=['y'])\n",
    "plt.title(\"Historgraph of 1 and 0 in 'y'\")\n",
    "plt.show()\n"
   ],
   "metadata": {
    "collapsed": false,
    "pycharm": {
     "name": "#%%\n"
    }
   }
  },
  {
   "cell_type": "code",
   "execution_count": null,
   "outputs": [],
   "source": [
    "bank1.y.value_counts()"
   ],
   "metadata": {
    "collapsed": false,
    "pycharm": {
     "name": "#%%\n"
    }
   }
  }
 ],
 "metadata": {
  "kernelspec": {
   "display_name": "Python 3",
   "language": "python",
   "name": "python3"
  },
  "language_info": {
   "codemirror_mode": {
    "name": "ipython",
    "version": 3
   },
   "file_extension": ".py",
   "mimetype": "text/x-python",
   "name": "python",
   "nbconvert_exporter": "python",
   "pygments_lexer": "ipython3",
   "version": "3.8.8"
  }
 },
 "nbformat": 4,
 "nbformat_minor": 5
}
